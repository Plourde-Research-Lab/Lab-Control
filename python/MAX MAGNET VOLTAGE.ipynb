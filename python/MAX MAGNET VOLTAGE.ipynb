{
 "cells": [
  {
   "cell_type": "markdown",
   "metadata": {},
   "source": [
    "**Change 'maxVoltage' variable below**"
   ]
  },
  {
   "cell_type": "code",
   "execution_count": 5,
   "metadata": {
    "collapsed": false
   },
   "outputs": [
    {
     "data": {
      "text/plain": [
       "{u'_id': ObjectId('57423a556545ebc9439e2ac6'),\n",
       " u'command': u'Magdown',\n",
       " u'currentJob': u'Magdown',\n",
       " u'currentLimit': 9.2,\n",
       " u'fridgeStatus': u'Magdown',\n",
       " u'jobStart': 1468405367,\n",
       " u'maxVoltage': 415,\n",
       " u'switchState': u'Closed',\n",
       " u'timeStamp': 1463943701,\n",
       " u'voltageStep': 1}"
      ]
     },
     "execution_count": 5,
     "metadata": {},
     "output_type": "execute_result"
    }
   ],
   "source": [
    "#################################################\n",
    "maxVoltage = 415 #Start with 400 for safe measure\n",
    "#################################################\n",
    "\n",
    "from pymongo import MongoClient, ReturnDocument\n",
    "\n",
    "client = MongoClient('mongodb://prl-redmine.syr.edu/')\n",
    "infocollection = client.control.adr2controls\n",
    "\n",
    "infocollection.find_one_and_update({},{'$set': {'maxVoltage': maxVoltage}})\n",
    "infocollection.find_one({})"
   ]
  },
  {
   "cell_type": "code",
   "execution_count": 4,
   "metadata": {
    "collapsed": true
   },
   "outputs": [],
   "source": [
    "infocollection.find_one({})"
   ]
  },
  {
   "cell_type": "markdown",
   "metadata": {},
   "source": [
    "**Trigger Magup again to increase voltage**"
   ]
  },
  {
   "cell_type": "code",
   "execution_count": 24,
   "metadata": {
    "collapsed": false
   },
   "outputs": [
    {
     "data": {
      "text/plain": [
       "{u'_id': ObjectId('56054da46545ebc411b4a4da'),\n",
       " u'command': u'Soak',\n",
       " u'currentJob': u'Soak',\n",
       " u'currentLimit': 9.2,\n",
       " u'fridgeStatus': u'Warm',\n",
       " u'maxVoltage': 440,\n",
       " u'switchState': u'Closed',\n",
       " u'timeStamp': 1443173732,\n",
       " u'voltageStep': 1}"
      ]
     },
     "execution_count": 24,
     "metadata": {},
     "output_type": "execute_result"
    }
   ],
   "source": [
    "infocollection.find_one_and_update({},{'$set': {'command': 'Magup'}})"
   ]
  },
  {
   "cell_type": "code",
   "execution_count": 10,
   "metadata": {
    "collapsed": true
   },
   "outputs": [],
   "source": [
    "from datetime import datetime"
   ]
  },
  {
   "cell_type": "code",
   "execution_count": 11,
   "metadata": {
    "collapsed": true
   },
   "outputs": [],
   "source": [
    "x = datetime.now()"
   ]
  },
  {
   "cell_type": "code",
   "execution_count": 20,
   "metadata": {
    "collapsed": true
   },
   "outputs": [],
   "source": [
    "y = datetime.now()"
   ]
  },
  {
   "cell_type": "code",
   "execution_count": 21,
   "metadata": {
    "collapsed": false
   },
   "outputs": [
    {
     "name": "stdout",
     "output_type": "stream",
     "text": [
      "0 days, 00h: 03m: 15s\n"
     ]
    }
   ],
   "source": [
    "c = y-x\n",
    "print \"%s days, %.2dh: %.2dm: %.2ds\" % (c.days,c.seconds//3600,(c.seconds//60)%60, c.seconds%60)"
   ]
  },
  {
   "cell_type": "code",
   "execution_count": null,
   "metadata": {
    "collapsed": true
   },
   "outputs": [],
   "source": []
  }
 ],
 "metadata": {
  "kernelspec": {
   "display_name": "Python 2",
   "language": "python",
   "name": "python2"
  },
  "language_info": {
   "codemirror_mode": {
    "name": "ipython",
    "version": 2
   },
   "file_extension": ".py",
   "mimetype": "text/x-python",
   "name": "python",
   "nbconvert_exporter": "python",
   "pygments_lexer": "ipython2",
   "version": "2.7.11"
  }
 },
 "nbformat": 4,
 "nbformat_minor": 0
}
